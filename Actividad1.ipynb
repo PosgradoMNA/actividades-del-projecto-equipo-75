{
<<<<<<< HEAD
 "cells": [
  {
   "cell_type": "markdown",
   "metadata": {
    "colab_type": "text",
    "id": "view-in-github"
   },
   "source": [
    "<a href=\"https://colab.research.google.com/github/PosgradoMNA/actividades-del-projecto-equipo-75/blob/main/Actividad1.ipynb\" target=\"_parent\"><img src=\"https://colab.research.google.com/assets/colab-badge.svg\" alt=\"Open In Colab\"/></a>"
   ]
  },
  {
   "cell_type": "markdown",
   "metadata": {
    "id": "T_d5yYfW9XnH"
   },
   "source": [
    "## Ciencia y analítica de datos\n",
    "### Profesor titular : Jobish Vallikavungal Devassia\n",
    "## Proyecto Final: Avance 1\n",
    "### Equipo 75\n",
    "### Nombre: Fernando Israel Correa Mendoza - A01793869\n",
    "### Nombre: Elber Manuel Aguilar Pérez - A01793568\n"
   ]
  },
  {
   "cell_type": "markdown",
   "metadata": {
    "id": "0D3Ql6FaAEs3"
   },
   "source": [
    "## **1.\tEl nombre que caracteriza el conjunto de datos.**\n",
    "\n",
    "### ¿Quién come los alimentos que cultivamos?"
   ]
  },
  {
   "cell_type": "markdown",
   "metadata": {
    "id": "Tojl2ppUAJtM"
   },
   "source": [
    "## **2.\tLa organización que lo generó.** \n",
    "\n",
    "\n",
    "### Organización de las Naciones Unidas para la Alimentación y la Agricultura (FAO)\n"
   ]
  },
  {
   "cell_type": "markdown",
   "metadata": {
    "id": "IOTJL19jAM9O"
   },
   "source": [
    "## **3.\tIncluya un enlace de Internet donde se puedan descargar el base de datos en línea**  \n",
    "\n",
    "#### https://www.kaggle.com/datasets/dorbicycle/world-foodfeed-production?select=FAO.csv\n"
   ]
  },
  {
   "cell_type": "markdown",
   "metadata": {
    "id": "2on1rzgKARG4"
   },
   "source": [
    "\n",
    "## **4.\tDescribe el conjunto de datos. ¿Qué datos contiene?**\n",
    "\n",
    "### La base de datos contiene información sobre la producción mundial de alimentos para consumo humano y animal a través de los años, donde se puede identificar como a impactado la economía de los paises desarrollados en la producción de los alimentos en los paises en desarrollo. \n",
    "\n",
    "### También se puede identiciar como se a incrmentado la cantidad de aliemto para ganado vs la cantiadad necesaria para el consumo humano, y la cantidad de tierra necesaria y deforestación para su cultivo."
   ]
  },
  {
   "cell_type": "markdown",
   "metadata": {
    "id": "GOGtk7t9AU7v"
   },
   "source": [
    "## **5.\t¿Cuáles son algunas de las preguntas de investigación que podría responder con estos datos? Enumere al menos OCHO (no responda las preguntas).**\n",
    "\n",
    "### 1. ¿Producción agricola por país?\n",
    "### 2. ¿Tipo de alimentos producidos para consumo humano y animal?\n",
    "### 3. ¿Incremento producción agricola durante las últimas 5 decadas por país?\n",
    "### 4. ¿Productos de mayor producción por país y región?\n",
    "### 5. ¿Cuáles productos han decrecido por país vs en cuales han aumentado?\n",
    "### 6. ¿Toneladas de alimento producidas vs población de país?\n",
    "### 7. ¿Cantidad de hectáreas cultivadas por tipo de producto?\n",
    "### 8. ¿Cuáles paises mantienen equilibro entre producción agricola para consumo humano vs consumo animal?"
   ]
  },
  {
   "cell_type": "markdown",
   "metadata": {
    "id": "eQdwy87IAWzp"
   },
   "source": [
    "\n",
    "## **6.\t¿Qué actor (empresa, sector de la sociedad, organismo descentralizado, gobierno, etc.) estaría interesado en las preguntas mencionadas que identificó?**\n",
    "\n",
    "### Gobierno central, Gobierno Federal y local, FAO, sector agrícola, productores locales, importadores y exportadores, BID, Cepal, agremiaciones de agricultores."
   ]
  },
  {
   "cell_type": "code",
   "execution_count": null,
   "metadata": {},
   "outputs": [],
   "source": []
  }
 ],
 "metadata": {
  "colab": {
   "authorship_tag": "ABX9TyN5IfRfLTREqW7PIiQZL9Kw",
   "include_colab_link": true,
   "provenance": []
  },
  "kernelspec": {
   "display_name": "Python 3 (ipykernel)",
   "language": "python",
   "name": "python3"
  },
  "language_info": {
   "codemirror_mode": {
    "name": "ipython",
    "version": 3
   },
   "file_extension": ".py",
   "mimetype": "text/x-python",
   "name": "python",
   "nbconvert_exporter": "python",
   "pygments_lexer": "ipython3",
   "version": "3.9.12"
  }
 },
 "nbformat": 4,
 "nbformat_minor": 1
}
=======
  "nbformat": 4,
  "nbformat_minor": 0,
  "metadata": {
    "colab": {
      "provenance": [],
      "collapsed_sections": [],
      "authorship_tag": "ABX9TyPjbsUhq6pEprwG1BLZk14P",
      "include_colab_link": true
    },
    "kernelspec": {
      "name": "python3",
      "display_name": "Python 3"
    },
    "language_info": {
      "name": "python"
    }
  },
  "cells": [
    {
      "cell_type": "markdown",
      "metadata": {
        "id": "view-in-github",
        "colab_type": "text"
      },
      "source": [
        "<a href=\"https://colab.research.google.com/github/PosgradoMNA/actividades-del-projecto-equipo-75/blob/main/Actividad1.ipynb\" target=\"_parent\"><img src=\"https://colab.research.google.com/assets/colab-badge.svg\" alt=\"Open In Colab\"/></a>"
      ]
    },
    {
      "cell_type": "markdown",
      "source": [
        "#Proyecto Final: Avance 1\n",
        "#Equipo 75\n",
        "#Nombre: Fernando Israel Correa Mendoza A01793869\n",
        "#Nombre: Elber Manuel Aguilar Pérez A01793568\n"
      ],
      "metadata": {
        "id": "T_d5yYfW9XnH"
      }
    },
    {
      "cell_type": "markdown",
      "source": [
        "##**1.\tEl nombre que caracteriza el conjunto de datos.**\n",
        "\n",
        "###¿Quién come los alimentos que cultivamos?"
      ],
      "metadata": {
        "id": "0D3Ql6FaAEs3"
      }
    },
    {
      "cell_type": "markdown",
      "source": [
        "##**2.\tLa organización que lo generó.** \n",
        "\n",
        "\n",
        "###Organización de las Naciones Unidas para la Alimentación y la Agricultura (FAO)\n"
      ],
      "metadata": {
        "id": "Tojl2ppUAJtM"
      }
    },
    {
      "cell_type": "markdown",
      "source": [
        "##**3.\tIncluya un enlace de Internet donde se puedan descargar el base de datos en línea**  \n",
        "\n",
        "###https://www.kaggle.com/datasets/dorbicycle/world-foodfeed-production?select=FAO.csv\n"
      ],
      "metadata": {
        "id": "IOTJL19jAM9O"
      }
    },
    {
      "cell_type": "markdown",
      "source": [
        "\n",
        "##**4.\tDescribe el conjunto de datos. ¿Qué datos contiene?**\n",
        "\n",
        "\n",
        "###La base de datos contiene información sobre la producción mundial de alimentos para consumo humano y animal a través de los años, donde se puede identificar como a impactado la economía en el consumo de los alimentos en países desarrollados en la producción de los alimentos en los países en desarrollo. \n",
        "\n",
        "###También se puede identificar como se a incrementado la cantidad de alimento para ganado vs la cantidad necesaria para el consumo humano, y la cantidad de tierra necesaria y deforestación para su cultivo.\n"
      ],
      "metadata": {
        "id": "2on1rzgKARG4"
      }
    },
    {
      "cell_type": "markdown",
      "source": [
        "##**5.\t¿Cuáles son algunas de las preguntas de investigación que podría responder con estos datos? Enumere al menos OCHO (no responda las preguntas).**\n",
        "\n",
        "###1. ¿Producción agricola por país?\n",
        "###\t2. ¿Tipo de alimentos producidos para consumo humano y animal?\n",
        "###\t3. ¿Incremento producción agricola durante las últimas 5 decadas por país?\n",
        "###\t4. ¿Productos de mayor producción por país y región?\n",
        "###\t5. ¿Cuáles productos han decrecido por país vs en cuales han aumentado?\n",
        "###\t6. ¿Toneladas de alimento producidas vs población de país?\n",
        "###\t7. ¿Cantidad de hectáreas cultivadas por tipo de producto?\n",
        "###  8. ¿Cuáles paises mantienen equilibro entre producción agricola para consumo humano vs consumo animal?"
      ],
      "metadata": {
        "id": "GOGtk7t9AU7v"
      }
    },
    {
      "cell_type": "markdown",
      "source": [
        "\n",
        "##**6.\t¿Qué actor (empresa, sector de la sociedad, organismo descentralizado, gobierno, etc.) estaría interesado en las preguntas mencionadas que identificó?**\n",
        "\n",
        "###Gobierno central, Gobierno Federal y local, FAO, sector agrícola, productores locales, importadores y exportadores, BID, Cepal, agremiaciones de agricultores."
      ],
      "metadata": {
        "id": "eQdwy87IAWzp"
      }
    }
  ]
}
>>>>>>> 54efa16bf728ff4f6d5447b4bcba7284475cfdcb
